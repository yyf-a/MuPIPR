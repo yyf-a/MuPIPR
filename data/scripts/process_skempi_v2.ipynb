{
 "cells": [
  {
   "cell_type": "markdown",
   "metadata": {},
   "source": [
    "# This notebook serves as an example for processing the binding affinity data from SKEMPI. "
   ]
  },
  {
   "cell_type": "code",
   "execution_count": 163,
   "metadata": {},
   "outputs": [],
   "source": [
    "from Bio.PDB import *\n",
    "import pandas as pd\n",
    "import warnings\n",
    "from Bio import BiopythonWarning\n",
    "warnings.simplefilter('ignore', BiopythonWarning)\n",
    "import csv\n",
    "import numpy as np\n",
    "from Bio.PDB.Polypeptide import three_to_one, one_to_three                           6\n",
    "import math\n"
   ]
  },
  {
   "cell_type": "markdown",
   "metadata": {},
   "source": [
    "## Function for loading SKEMPI.csv file"
   ]
  },
  {
   "cell_type": "code",
   "execution_count": 164,
   "metadata": {},
   "outputs": [],
   "source": [
    "def load_pd(fName):\n",
    "    df = pd.read_csv(fName, sep = ';')\n",
    "    df = df.dropna(subset = ['Affinity_mut_parsed', 'Affinity_wt_parsed', 'Temperature'])\n",
    "    return df\n"
   ]
  },
  {
   "cell_type": "markdown",
   "metadata": {},
   "source": [
    "## Function for generating the sequence from PDB ID. Note that you need to have a folder (./skempi_v2/PDBs/) of pre-downloaded PDB files. "
   ]
  },
  {
   "cell_type": "code",
   "execution_count": 165,
   "metadata": {},
   "outputs": [],
   "source": [
    "def get_seq(ent_name, mutation_pdb, chains, affinity, temp, seq_dict):\n",
    "#    print(mutation_pdb)\n",
    "    chain_ID, residue_ID, r_w, r_m = mutation_pdb[1], mutation_pdb[2:-1], mutation_pdb[0], mutation_pdb[-1]\n",
    "    # print('chain_ID, residue_ID, r_w, r_m',chain_ID, residue_ID, r_w, r_m)\n",
    "    \n",
    "        \n",
    "    parser = PDBParser()\n",
    "    structure = parser.get_structure(ent_name, './skempi_v2/PDBs/' + ent_name + '.pdb')\n",
    "#    print(structure) # this print structure id for first 10 elements <Structure id=1CSE>\n",
    "    # print(len(structure)) # the structure length are all 1\n",
    "    assert(len(structure) == 1)\n",
    "    model = structure[0]\n",
    "\n",
    "#     for elem in model.get_chains():\n",
    "#         print(elem)\n",
    "    w_seq0 = ''\n",
    "    \n",
    "    for each_chain in chains[0]:\n",
    "    #    print(each_chain,)\n",
    "        chain0 = model[each_chain]\n",
    "        ppb = PPBuilder()\n",
    "        for pp in ppb.build_peptides(chain0): # one chain could have multiple sequence seperatly measured\n",
    "        #    print(pp)\n",
    "        #    print('Ch0',pp.get_sequence())\n",
    "            w_seq0 += pp.get_sequence() # record chain sequencing for first chain in each sample protein\n",
    "\n",
    "    w_seq1 = ''\n",
    "    for each_chain in chains[1]:\n",
    "#         print(each_chain,)\n",
    "        chain1 = model[each_chain]\n",
    "        for pp in ppb.build_peptides(chain1):\n",
    "    #         print('Ch1',pp.get_sequence())\n",
    "            w_seq1 += pp.get_sequence()\n",
    "\n",
    "    w_name0 = mut_name0 = ent_name+'_'+chains[0]\n",
    "    w_name1 = mut_name1 = ent_name+'_'+chains[1]\n",
    "#    print(\"Wildtype\", w_name0, w_name1)\n",
    "#    print(w_seq0)\n",
    "#    print(w_seq1)\n",
    "    \n",
    "    if w_name0 not in seq_dict:\n",
    "        seq_dict[w_name0] = w_seq0\n",
    "    if w_name1 not in seq_dict:\n",
    "        seq_dict[w_name1] = w_seq1\n",
    "#    print(seq_dict) # why exists 'leu38gly'?? generate from following\n",
    "\n",
    "#     Mutation\n",
    "    mut_chain = model[chain_ID]\n",
    "    \n",
    "    if residue_ID.isdigit():\n",
    "#         print(residue_ID)\n",
    "        residue = mut_chain[int(residue_ID)]\n",
    "    else:\n",
    "#         print(residue_ID[:-1], residue_ID[-1])\n",
    "        residue = mut_chain[(' ', int(residue_ID[:-1]), residue_ID[-1].upper())]\n",
    "\n",
    "#    print(residue.resname, three_to_one(residue.resname), one_to_three(r_m))\n",
    "    assert(three_to_one(residue.resname) == r_w)\n",
    "\n",
    "    residue.resname = one_to_three(r_m)\n",
    "    \n",
    "    m_seq0 = ''\n",
    "    m_seq1 = ''\n",
    "\n",
    "#     chain_ID, residue_ID, r_w, r_m = mutation_pdb[1], mutation_pdb[2:-1], mutation_pdb[0], mutation_pdb[-1]\n",
    "    \n",
    "    for each_chain in chains[0]:\n",
    "        chain0 = model[each_chain]\n",
    "#        print(chain_ID, chain0)\n",
    "        if chain_ID == chain0.id:\n",
    "    #        print(\"mutation on 1st chain\")\n",
    "#             mut_name0 = ent_name+'_'+chains[0] + '_' + mutation_pdb\n",
    "            mut_name0 = ent_name+'_'+chains[0] + '_' + one_to_three(r_w) + str(residue_ID) + one_to_three(r_m)\n",
    "    #        print(mut_name0)\n",
    "\n",
    "#             m_seq0 = ''\n",
    "            for pp in ppb.build_peptides(chain0):\n",
    "                m_seq0 += pp.get_sequence()\n",
    "        else:\n",
    "            for pp in ppb.build_peptides(chain0):\n",
    "                m_seq0 += pp.get_sequence()\n",
    "    \n",
    "    for each_chain in chains[1]:\n",
    "        chain1 = model[each_chain]\n",
    "#        print(chain_ID, chain1)\n",
    "        if chain_ID == chain1.id:\n",
    "#            print(\"mutation on 2nd chain\")\n",
    "#             mut_name1 = ent_name+'_'+chains[1] + '_' + mutation_pdb\n",
    "            mut_name1 = ent_name+'_'+chains[1] + '_' + one_to_three(r_w) + str(residue_ID) + one_to_three(r_m)\n",
    "#            print(mut_name1)\n",
    "#             m_seq0 = ''\n",
    "            for pp in ppb.build_peptides(chain1):\n",
    "                m_seq1 += pp.get_sequence()\n",
    "        else:\n",
    "            for pp in ppb.build_peptides(chain1):\n",
    "                m_seq1 += pp.get_sequence()\n",
    "\n",
    "    if mut_name0 not in seq_dict:\n",
    "        seq_dict[mut_name0] = m_seq0\n",
    "    if mut_name1 not in seq_dict:\n",
    "        seq_dict[mut_name1] = m_seq1\n",
    "#    print(seq_dict)    \n",
    "    \n",
    "    dG_w =  (8.314/4184)*(float(temp)) * math.log(float(affinity[1]))\n",
    "    dG_m = (8.314/4184)*(float(temp)) * math.log(float(affinity[0]))\n",
    "    #print(\"dG_w, dG_m, ddG\",dG_w, dG_m, dG_m - dG_w)\n",
    "#     fout.write(w_name0, w_name1,mut_name0, mut_name1,dG_w, dG_m, dG_m - dG_w)\n",
    "    print(w_name0, w_name1,mut_name0, mut_name1,dG_w, dG_m, dG_m - dG_w, file=open(\"./skempi_v2.singlemut.ddg.score.txt\", \"a\"))\n",
    "    \n",
    "#     print(w_name0, w_name1,mut_name0, mut_name1,dG_w, dG_m, dG_m - dG_w, file=open(\"./skempi_v2.mut4.ddg.score.txt\", \"a\"))\n",
    "    return seq_dict\n",
    "\n"
   ]
  },
  {
   "cell_type": "markdown",
   "metadata": {},
   "source": [
    "The binding free energy is calculated by equation:\n",
    "\n",
    "$\\Delta G = -RT ln(K_d)$\n",
    "where $K_d$ is binding affinity.\n",
    "\n",
    "*ref : Hu, J., Zhou, L., Li, B. et al. Improve hot region prediction by analyzing different machine learning algorithms. BMC Bioinformatics 22, 522 (2021). https://doi.org/10.1186/s12859-021-04420-0*"
   ]
  },
  {
   "cell_type": "markdown",
   "metadata": {},
   "source": [
    "## Function for processing the binding affinity scores"
   ]
  },
  {
   "cell_type": "code",
   "execution_count": 166,
   "metadata": {},
   "outputs": [],
   "source": [
    "# download_all_pdb(ppi)\n",
    "def get_score(ent_name, mutation_pdb, chains, affinity, temp):\n",
    "    \n",
    "    chain_ID, residue_ID, r_w, r_m = mutation_pdb[1], mutation_pdb[2:-1], mutation_pdb[0], mutation_pdb[-1]\n",
    "    #print('chain_ID, residue_ID, r_w, r_m',chain_ID, residue_ID, r_w, r_m)\n",
    "    \n",
    "        \n",
    "    w_name0 = mut_name0 = ent_name+'_'+chains[0]\n",
    "    w_name1 = mut_name1 = ent_name+'_'+chains[1]\n",
    "#     print(\"Wildtype\", w_name0, w_name1)\n",
    "    \n",
    "#     Mutation\n",
    "    \n",
    "    for each_chain in chains[0]:\n",
    "#         print(chain_ID, chain0)\n",
    "        if chain_ID == each_chain:\n",
    "#             print(\"mutation on 1st chain\")\n",
    "            mut_name0 = ent_name+'_'+chains[0] + '_' + one_to_three(r_w) + str(residue_ID) + one_to_three(r_m)\n",
    "    \n",
    "    for each_chain in chains[1]:\n",
    "#         print(chain_ID, chain1)\n",
    "        if chain_ID == each_chain:\n",
    "#             print(\"mutation on 2nd chain\")\n",
    "            mut_name1 = ent_name+'_'+chains[1] + '_' + one_to_three(r_w) + str(residue_ID) + one_to_three(r_m)\n",
    "\n",
    "    dG_w =  (8.314/4184)*(float(temp)) * math.log(float(affinity[1]))\n",
    "    dG_m = (8.314/4184)*(float(temp)) * math.log(float(affinity[0]))\n",
    "    #print(w_name0, w_name1,mut_name0, mut_name1,dG_w, dG_m, dG_m - dG_w)\n",
    "#    print(w_name0, w_name1,mut_name0, mut_name1,dG_w, dG_m, dG_m - dG_w, file=open(\"./skempi_v2.singlemut.ddg.score.txt\", \"a\"))\n",
    "    return seq_dict\n"
   ]
  },
  {
   "cell_type": "markdown",
   "metadata": {},
   "source": [
    "## Please provide the SKEMPI file here. In our demo, we choose to use SKEMPI version 2 downloaded from https://life.bsc.es/pid/skempi2/database/index"
   ]
  },
  {
   "cell_type": "code",
   "execution_count": 167,
   "metadata": {},
   "outputs": [
    {
     "name": "stdout",
     "output_type": "stream",
     "text": [
      "Size of the data: (6794, 29)\n",
      "Top 10 samples are selected for demo purpose.\n"
     ]
    }
   ],
   "source": [
    "skepiIn = \"./skempi_v2/skempi_v2.csv\"\n",
    "ppi = load_pd(skepiIn)\n",
    "print(\"Size of the data:\", ppi.shape)\n",
    "\n",
    "ppi = np.array(ppi)\n",
    "# print(ppi)\n",
    "\n",
    "# process temperature at 13 columns\n",
    "select_N = 10\n",
    "print(\"Top \" + str(select_N) + \" samples are selected for demo purpose.\")\n",
    "for i in range(select_N):\n",
    "    elem = ppi[i, 13].strip()\n",
    "    ppi[i, 13] = elem[:3] # some termperature followed by 298(assumed), [:3] keeps only number"
   ]
  },
  {
   "cell_type": "markdown",
   "metadata": {},
   "source": [
    "## The main processing part. The processed file will be saved. "
   ]
  },
  {
   "cell_type": "markdown",
   "metadata": {},
   "source": [
    "#### Two output : \"./skempi_v2/singlemut.ddg.score.txt \" denotes the processed score file, and \"./skempi_v2.singlemut.mut4.seq.txt\" denotes the processed sequence file.\n",
    "The processed score file contains 7 fields for each row: Protein_wild_1, Protein_wild_1, Protein_mutant_1, Protein_mutant_2, $\\Delta{G_w}$, $\\Delta{G_m}$, $\\Delta\\Delta{G}$"
   ]
  },
  {
   "cell_type": "code",
   "execution_count": 168,
   "metadata": {},
   "outputs": [
    {
     "name": "stdout",
     "output_type": "stream",
     "text": [
      "(6794, 29)\n"
     ]
    }
   ],
   "source": [
    "mult_mutation = 0\n",
    "seq_dict = {}\n",
    "\n",
    "\n",
    "cnt_single_chain = cnt_both_chain = 0\n",
    "\n",
    "f1 = open(\"./skempi_v2/singlemut.ddg.score.txt\", \"w\")\n",
    "f2 = open(\"./skempi_v2.singlemut.mut4.seq.txt\", \"w\")\n",
    "print(ppi.shape)\n",
    "\n",
    "for i in range(select_N):\n",
    "# for i in range(10):\n",
    "#     print(ppi[i,:])\n",
    "    ent_name = ppi[i,0][:4]\n",
    "#     .lower()\n",
    "    chains = ppi[i,0].split('_')[1:]\n",
    "    assert(len(chains) == 2)\n",
    "#     print(i, len(ppi))\n",
    "    affinity = ppi[i,(7,9)]\n",
    "    temp = ppi[i,13]\n",
    "    #print(i, ppi[i, :3], temp, affinity)\n",
    "    mutations_pdb = ppi[i][2].split(',') # could be multiple mutation in one row\n",
    "#     if len(mutations_pdb) == 1:\n",
    "    get_seq(ent_name, mutations_pdb[0], chains, affinity, temp, seq_dict)\n",
    "    # get_score(ent_name, mutations_pdb[0], chains, affinity, temp) # get seq function also produce score\n",
    "\n",
    "for elem in seq_dict:\n",
    "    print(elem, seq_dict[elem], file=open(\"./skempi_v2.singlemut.mut4.seq.txt\", \"a\"))\n",
    "    \n"
   ]
  },
  {
   "cell_type": "markdown",
   "metadata": {},
   "source": [
    "After `get seq` function, `seq_dic` consists of expected mutation in the formate of :\n",
    "\n",
    "{'1CSE_E': Seq('AQTVPYGIPLIKADKVQAQGFKGANVKVAVLDTGIQASHPDLNVVGGASFVAGE...AAQ'), \n",
    "'1CSE_I': Seq('KSFPEVVGKTVDQAREYFTLHYPQYNVYFLPEGSPVTLDLRYNRVRVFYNPGTN...HVG'), \n",
    "'1CSE_I_LEU38GLY': Seq('KSFPEVVGKTVDQAREYFTLHYPQYNVYFLPEGSPVTGDLRYNRVRVFYNPGTN...HVG'), \n",
    "'1CSE_I_LEU38SER': Seq('KSFPEVVGKTVDQAREYFTLHYPQYNVYFLPEGSPVTSDLRYNRVRVFYNPGTN...HVG'), \n",
    "'1CSE_I_LEU38PRO': Seq('KSFPEVVGKTVDQAREYFTLHYPQYNVYFLPEGSPVTPDLRYNRVRVFYNPGTN...HVG'), \n",
    "'1CSE_I_LEU38ILE': Seq('KSFPEVVGKTVDQAREYFTLHYPQYNVYFLPEGSPVTIDLRYNRVRVFYNPGTN...HVG'), \n",
    "'1CSE_I_LEU38ASP': Seq('KSFPEVVGKTVDQAREYFTLHYPQYNVYFLPEGSPVTDDLRYNRVRVFYNPGTN...HVG'), \n",
    "'1CSE_I_LEU38GLU': Seq('KSFPEVVGKTVDQAREYFTLHYPQYNVYFLPEGSPVTEDLRYNRVRVFYNPGTN...HVG'), \n",
    "'1ACB_E': Seq('CGVPAIQPVLSGLIVNGEEAVPGSWPWQVSLQDKTGFHFCGGSLINENWVVTAA...AAN'), \n",
    "'1ACB_I': Seq('KSFPEVVGKTVDQAREYFTLHYPQYDVYFLPEGSPVTLDLRYNRVRVFYNPGTN...HVG'), \n",
    "'1ACB_I_LEU38GLY': Seq('KSFPEVVGKTVDQAREYFTLHYPQYDVYFLPEGSPVTGDLRYNRVRVFYNPGTN...HVG'), \n",
    "'1ACB_I_LEU38SER': Seq('KSFPEVVGKTVDQAREYFTLHYPQYDVYFLPEGSPVTSDLRYNRVRVFYNPGTN...HVG'), \n",
    "'1ACB_I_LEU38PRO': Seq('KSFPEVVGKTVDQAREYFTLHYPQYDVYFLPEGSPVTPDLRYNRVRVFYNPGTN...HVG'), \n",
    "'1ACB_I_LEU38ILE': Seq('KSFPEVVGKTVDQAREYFTLHYPQYDVYFLPEGSPVTIDLRYNRVRVFYNPGTN...HVG')}\n",
    "\n",
    "Although sequencing data hasn't change, but the mutation are marked. "
   ]
  },
  {
   "cell_type": "code",
   "execution_count": null,
   "metadata": {},
   "outputs": [],
   "source": []
  }
 ],
 "metadata": {
  "kernelspec": {
   "display_name": "Python 3",
   "language": "python",
   "name": "python3"
  },
  "language_info": {
   "codemirror_mode": {
    "name": "ipython",
    "version": 3
   },
   "file_extension": ".py",
   "mimetype": "text/x-python",
   "name": "python",
   "nbconvert_exporter": "python",
   "pygments_lexer": "ipython3",
   "version": "3.7.6"
  }
 },
 "nbformat": 4,
 "nbformat_minor": 2
}
