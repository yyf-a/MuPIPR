{
 "cells": [
  {
   "cell_type": "code",
   "execution_count": 2,
   "metadata": {},
   "outputs": [],
   "source": [
    "from Bio.PDB import DSSP\n",
    "from Bio.PDB import PDBParser\n",
    "import warnings\n",
    "from Bio import BiopythonWarning\n",
    "import pandas as pd\n",
    "from Bio.PDB import PDBIO\n",
    "from Bio.PDB import Dice\n",
    "import numpy as np\n",
    "import Bio\n",
    "import sys"
   ]
  },
  {
   "cell_type": "markdown",
   "metadata": {},
   "source": [
    "It should works fine whether in python3 or python2 \n",
    "\n",
    "check for https://www.biostars.org/p/427294/#9514324\n",
    "\n",
    "It's important to install program https://www.biostars.org/p/348161/ , install using `conda install -c speleo3 dssp`\n",
    "\n",
    "The dssp command is available from the psico package and requires the dssp binary (or mkdssp, dsspcmbi, dssp-2).\n",
    "\n",
    "Python 3: `dssp = DSSP(model, './pdb%s.ent' % i, file_type='PDB')`\n",
    "\n",
    "Python 2: `dssp = DSSP(model, './pdb%s.ent' % i)`"
   ]
  },
  {
   "cell_type": "code",
   "execution_count": 3,
   "metadata": {},
   "outputs": [
    {
     "name": "stdout",
     "output_type": "stream",
     "text": [
      "Downloading PDB structure '1ako'...\n",
      "1ako\n",
      "MKFVSFNINGLRARPHQLEAIVEKHQPDVIGLQETKVHDDMFPLEEVAKLGYNVFYHGQKGHYGVALLTKETPIAVRRGFPGDDEEAQRRIIMAEIPSLLGNVTVINGYFPQGESRDHPIKFPAKAQFYQNLQNYLETELKRDNPVLIMGDMNISPTDLDIGIGEENRKRWLRTGKCSFLPEEREWMDRLMSWGLVDTFRHANPQTADRFSWFDYRSKGFDDNRGLRIDLLLASQPLAECCVETGIDYEIRSMEKPSDHAPVWATFRR\n",
      "-EEEEEE-S-GGG-HHHHHHHHHHH--SEEEEE-----GGG--HHHHHHTT-EEEEEEETTEEEEEEEESS--SEEEESSTT--HHHHTTEEEEEEEETTEEEEEEEEE-----BTT-TTHHHHHHHHHHHHHHHHHHH--TTS-EEEEEE-----SGGGB-S-HHHHHHHHHHTBTTS-HHHHHHHHHHHHTTEEEHHHHHSTT--S--SB--TTTTHHHHT--B--EEEEEEHHHHTTEEEEEE-HHHHTSSS--SB--EEEEE--\n",
      "CEEEEEECCCHHHCHHHHHHHHHHHCCCEEEEECCCCCHHHCCHHHHHHCCCEEEEEEECCEEEEEEEECCCCCEEEECCCCCCHHHHCCEEEEEEEECCEEEEEEEEECCCCCECCCCCHHHHHHHHHHHHHHHHHHHCCCCCCEEEEEECCCCCCHHHECCCHHHHHHHHHHCECCCCHHHHHHHHHHHHCCEEEHHHHHCCCCCCCCCECCCCCCHHHHCCCECCEEEEEEHHHHCCEEEEEECHHHHCCCCCCCECCEEEEECC\n"
     ]
    }
   ],
   "source": [
    "from Bio.PDB import PDBList\n",
    "# initialize PDB downloader\n",
    "pdb_dl = PDBList()\n",
    "# a list of PDB IDs to download\n",
    "pdb_list = ['1ako']\n",
    "# download PDB files, save them in current directory\n",
    "for i in pdb_list:\n",
    "    pdb_dl.retrieve_pdb_file(i, pdir='./', file_format='pdb', overwrite=True)\n",
    "\n",
    "# parse structure\n",
    "p = PDBParser()\n",
    "for i in pdb_list:\n",
    "    path = './pdb%s.ent' % i\n",
    "    #print(path)\n",
    "    structure = p.get_structure(i, path)\n",
    "    # use only the first model\n",
    "    model = structure[0]\n",
    "\n",
    "    # calculate DSSP\n",
    "    dssp = DSSP(model, path, file_type='PDB')\n",
    "    # extract sequence and secondary structure from the DSSP tuple\n",
    "    sequence = ''\n",
    "    sec_structure = ''\n",
    "    for z in range(len(dssp)):\n",
    "        a_key = list(dssp.keys())[z]\n",
    "        sequence += dssp[a_key][1]\n",
    "        sec_structure += dssp[a_key][2]\n",
    "\n",
    "    # print extracted sequence and structure\n",
    "    print(i)\n",
    "    print(sequence)\n",
    "    print(sec_structure)\n",
    "    #\n",
    "    # The DSSP codes for secondary structure used here are:\n",
    "    # =====     ====\n",
    "    # Code      Structure\n",
    "    # =====     ====\n",
    "    # H         Alpha helix (4-12)\n",
    "    # B         Isolated beta-bridge residue\n",
    "    # E         Strand\n",
    "    # G         3-10 helix\n",
    "    # I         Pi helix\n",
    "    # T         Turn\n",
    "    # S         Bend\n",
    "    # -         None\n",
    "    # =====     ====\n",
    "    #\n",
    "    # if desired, convert DSSP's 8-state assignments into 3-state [C - coil, E - extended (beta-strand), H - helix]\n",
    "    sec_structure = sec_structure.replace('-', 'C')\n",
    "    sec_structure = sec_structure.replace('I', 'C')\n",
    "    sec_structure = sec_structure.replace('T', 'C')\n",
    "    sec_structure = sec_structure.replace('S', 'C')\n",
    "    sec_structure = sec_structure.replace('G', 'H')\n",
    "    sec_structure = sec_structure.replace('B', 'E')\n",
    "    print(sec_structure)"
   ]
  }
 ],
 "metadata": {
  "interpreter": {
   "hash": "c5fa49b1b7d5e2906e4eefcbb0032ff02a017e68033cb644d1ced42184e0729f"
  },
  "kernelspec": {
   "display_name": "Python 3.7.6 ('base')",
   "language": "python",
   "name": "python3"
  },
  "language_info": {
   "codemirror_mode": {
    "name": "ipython",
    "version": 3
   },
   "file_extension": ".py",
   "mimetype": "text/x-python",
   "name": "python",
   "nbconvert_exporter": "python",
   "pygments_lexer": "ipython3",
   "version": "3.7.6"
  },
  "orig_nbformat": 4
 },
 "nbformat": 4,
 "nbformat_minor": 2
}
