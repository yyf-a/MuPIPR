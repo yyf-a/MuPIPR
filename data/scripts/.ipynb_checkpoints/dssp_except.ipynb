{
 "cells": [
  {
   "cell_type": "markdown",
   "metadata": {},
   "source": [
    "check for exceptions, such as in row 1144 in `dssp_sasa.csv`, there is no value in column 'SASA_wt_g1','SASA_wt_g2','SASA_mu_g1','SASA_mu_g2', and more than\n",
    "one charaters in column 'Chain_in_G1','Chain_in_G2'. \n",
    "\n",
    "The columns info is \n",
    "\n",
    "1b2m\t1rgc\t10524\t\t\t10801\t\t\tCD\tEAB\n"
   ]
  },
  {
   "cell_type": "code",
   "execution_count": 21,
   "metadata": {},
   "outputs": [],
   "source": [
    "from Bio.PDB import DSSP\n",
    "from Bio.PDB import PDBParser\n",
    "import warnings\n",
    "from Bio import BiopythonWarning\n",
    "from Bio.PDB import PDBList\n",
    "from Bio.PDB import PDBIO\n",
    "import numpy as np"
   ]
  },
  {
   "cell_type": "code",
   "execution_count": 29,
   "metadata": {},
   "outputs": [
    {
     "name": "stdout",
     "output_type": "stream",
     "text": [
      "Downloading PDB structure '1b2m'...\n"
     ]
    }
   ],
   "source": [
    "# initialize PDB downloader\n",
    "pdb_dl = PDBList()\n",
    "# a list of PDB IDs to download\n",
    "pdb_list = ['1b2m']\n",
    "# download PDB files, save them in current directory\n",
    "for i in pdb_list:\n",
    "    pdb_dl.retrieve_pdb_file(i, pdir='./', file_format='pdb', overwrite=True)"
   ]
  },
  {
   "cell_type": "code",
   "execution_count": 30,
   "metadata": {},
   "outputs": [
    {
     "name": "stdout",
     "output_type": "stream",
     "text": [
      "CD\n",
      "EAB\n",
      "The following pair cause error in DSSP: 1b2m\n"
     ]
    },
    {
     "name": "stderr",
     "output_type": "stream",
     "text": [
      "C:\\Users\\amber\\anaconda3\\lib\\site-packages\\Bio\\PDB\\DSSP.py:252: UserWarning: DSSP could not be created due to an error:\n",
      "empty protein, or no valid complete residues\n",
      "\n",
      "  warnings.warn(err)\n"
     ]
    },
    {
     "data": {
      "text/plain": [
       "[('1b2m', 10524.0, nan, nan, 'CD', 'EAB')]"
      ]
     },
     "execution_count": 30,
     "metadata": {},
     "output_type": "execute_result"
    }
   ],
   "source": [
    "residue_max_acc = { 'A': 106.0, 'R': 248.0, 'N': 157.0,\n",
    "                   'D': 163.0, 'C': 135.0, 'Q': 198.0, \n",
    "                   'E': 194.0, 'G': 84.0, 'H': 184.0, \n",
    "                   'I': 169.0, 'L': 164.0, 'K': 205.0, \n",
    "                   'M': 188.0, 'F': 197.0, 'P': 136.0, \n",
    "                   'S': 130.0, 'T': 142.0, 'W': 227.0, \n",
    "                   'Y': 222.0, 'V': 142.0, 'X':169.6 } \n",
    "\n",
    "class Chain_filter:\n",
    "    def __init__(self, chain_id):\n",
    "        self.chain_id = chain_id\n",
    "    ## accept all model\n",
    "    def accept_model(self, model):\n",
    "        return 1\n",
    "    ## accept the chains in the group\n",
    "    def accept_chain(self, chain): \n",
    "        if chain.get_id() in self.chain_id: \n",
    "            return 1\n",
    "        return 0\n",
    "    # accept all residue in the chain\n",
    "    def accept_residue(self, residue): \n",
    "        return 1\n",
    "    # accept all atoms\n",
    "    def accept_atom(self, atom):\n",
    "        return 1\n",
    "    \n",
    "def extract_chain2pdb(structure, chain_ids, filename):\n",
    "    sel = Chain_filter(chain_ids) \n",
    "    pdbio = PDBIO() \n",
    "    pdbio.set_structure(structure) \n",
    "    pdbio.save(filename, sel) \n",
    "\n",
    "def calculate_sasa(select_mutation_num=None,select_chain_num=None):\n",
    "    \"\"\"\n",
    "    Read in the csv file with a list of wildtypes and mutations.\n",
    "    Calculate the a pair of Delta_SASA for each protei; also calculate the Delta Delta_SASA (wt - mut)\n",
    "    return a dataframe containing the information\n",
    "    \"\"\"\n",
    "    warnings.simplefilter('ignore',BiopythonWarning)\n",
    "    parser = PDBParser()\n",
    "    result = []\n",
    "    \n",
    "\n",
    "    wt_name = '1b2m'\n",
    "       \n",
    "        \n",
    "    # specify the pdb files directory here\n",
    "    wt_file = './pdb' + wt_name+'.ent'\n",
    "        \n",
    "    # get the structure of complex\n",
    "    wt_struc = parser.get_structure(wt_name, wt_file)\n",
    "\n",
    "    try:\n",
    "        # find the dssp result of the complex\n",
    "        wt_dssp = DSSP(wt_struc[0], wt_file, 'dssp.exe', file_type='PDB') #first model is stucture[0]\n",
    "        # in case there are failure\n",
    "        while len(wt_dssp)==0:\n",
    "            wt_dssp = DSSP(wt_struc[0], wt_file, 'dssp.exe', file_type='PDB')\n",
    "\n",
    "    except:\n",
    "        print(\"The following pair has corrupted pdb:\", wt_name, mu_name)\n",
    "        \n",
    "    #    \n",
    "    # find the total sasa of the complex\n",
    "    Total_SASA_wt = np.sum([item[3]*residue_max_acc[item[1]] for item in wt_dssp if item[1]!='X'])\n",
    "\n",
    "    # get the number of chains and divide them into groups\n",
    "    chain_count = len(wt_struc[0])\n",
    "    first_group = int(chain_count/2)\n",
    "    index = 0\n",
    "    group1 = []\n",
    "    group2 = []\n",
    "    for chain in wt_struc[0]:\n",
    "        if index < first_group:\n",
    "            group1.append(chain.get_id())\n",
    "        else:\n",
    "            group2.append(chain.get_id())\n",
    "        index += 1\n",
    "    \n",
    "    Chain_in_g1 = ''.join(group1) \n",
    "    Chain_in_g2 = ''.join(group2)\n",
    "    print(Chain_in_g1)\n",
    "    print(Chain_in_g2)\n",
    "        \n",
    "            \n",
    "    try:\n",
    "        ## wild type\n",
    "        # filter to group 1\n",
    "        wt_g1_struc = parser.get_structure(wt_name, wt_file)\n",
    "        extract_chain2pdb(wt_g1_struc,group1, 'temp.ent') #Write a Structure object (or a subset of a Structure object) as a PDB file.\n",
    "        wt_g1_dssp = DSSP(wt_g1_struc[0],'temp.ent','dssp.exe', file_type='PDB')\n",
    "        while len(wt_g1_dssp)==0:\n",
    "            wt_g1_dssp = DSSP(wt_g1_struc[0], 'temp.ent', 'dssp.exe', file_type='PDB')\n",
    "\n",
    "        SASA_wt_g1 = np.sum([item[3]*residue_max_acc[item[1]] for item in wt_g1_dssp if item[1]!='X'])\n",
    "\n",
    "        # filter to group 2\n",
    "        wt_g2_struc = parser.get_structure(wt_name, wt_file)\n",
    "        extract_chain2pdb(wt_g2_struc,group2, 'temp.ent')\n",
    "        wt_g2_dssp = DSSP(wt_g2_struc[0],'temp.ent','dssp.exe', file_type='PDB')\n",
    "        while len(wt_g2_dssp)==0:\n",
    "            wt_g2_dssp = DSSP(wt_g2_struc[0], 'temp.ent', 'dssp.exe', file_type='PDB')\n",
    "\n",
    "        SASA_wt_g2 = np.sum([item[3]*residue_max_acc[item[1]] for item in wt_g2_dssp if item[1]!='X'])\n",
    "\n",
    "    except:\n",
    "        SASA_wt_g1 = np.nan\n",
    "        SASA_wt_g2 = np.nan\n",
    "        print(\"The following pair cause error in DSSP:\", wt_name)\n",
    "        \n",
    "    result.append( (wt_name,Total_SASA_wt,SASA_wt_g1,SASA_wt_g2,\n",
    "                        Chain_in_g1,Chain_in_g2))\n",
    "    \n",
    "        \n",
    "    return result\n",
    "\n",
    "res = calculate_sasa()\n",
    "res"
   ]
  },
  {
   "cell_type": "markdown",
   "metadata": {},
   "source": [
    "Only protein with 2 chains left. and caluclate sasa for left chain and right chain. "
   ]
  }
 ],
 "metadata": {
  "interpreter": {
   "hash": "c5fa49b1b7d5e2906e4eefcbb0032ff02a017e68033cb644d1ced42184e0729f"
  },
  "kernelspec": {
   "display_name": "Python 3.7.6 ('base')",
   "language": "python",
   "name": "python3"
  },
  "language_info": {
   "codemirror_mode": {
    "name": "ipython",
    "version": 3
   },
   "file_extension": ".py",
   "mimetype": "text/x-python",
   "name": "python",
   "nbconvert_exporter": "python",
   "pygments_lexer": "ipython3",
   "version": "3.7.6"
  },
  "orig_nbformat": 4
 },
 "nbformat": 4,
 "nbformat_minor": 2
}
